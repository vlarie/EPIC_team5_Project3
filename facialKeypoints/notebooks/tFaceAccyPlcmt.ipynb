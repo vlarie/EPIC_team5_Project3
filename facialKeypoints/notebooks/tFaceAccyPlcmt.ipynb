{
 "cells": [
  {
   "cell_type": "code",
   "execution_count": 1,
   "metadata": {},
   "outputs": [],
   "source": [
    "# Dependencies\n",
    "import pandas as pd\n",
    "import numpy as np\n",
    "from PIL import Image\n",
    "from __future__ import print_function"
   ]
  },
  {
   "cell_type": "code",
   "execution_count": 2,
   "metadata": {},
   "outputs": [],
   "source": [
    "# These files are a 'workaround', 'trick', or 'hack' to get around the fact that when Pillow scales \n",
    "# a png image, it loses transparency. Invoking these functions on the image before and after a 'resize' \n",
    "# will retain transparency. See next cell for example use.\n",
    "\n",
    "def premultiply(im):\n",
    "    pixels = im.load()\n",
    "    for y in range(im.size[1]):\n",
    "        for x in range(im.size[0]):\n",
    "            r, g, b, a = pixels[x, y]\n",
    "            if a != 255:\n",
    "                r = r * a // 255\n",
    "                g = g * a // 255\n",
    "                b = b * a // 255\n",
    "                pixels[x, y] = (r, g, b, a)\n",
    "\n",
    "def unmultiply(im):\n",
    "    pixels = im.load()\n",
    "    for y in range(im.size[1]):\n",
    "        for x in range(im.size[0]):\n",
    "            r, g, b, a = pixels[x, y]\n",
    "            if a != 255 and a != 0:\n",
    "                r = 255 if r >= a else 255 * r // a\n",
    "                g = 255 if g >= a else 255 * g // a\n",
    "                b = 255 if b >= a else 255 * b // a\n",
    "                pixels[x, y] = (r, g, b, a)"
   ]
  },
  {
   "cell_type": "code",
   "execution_count": 7,
   "metadata": {},
   "outputs": [
    {
     "data": {
      "text/html": [
       "<div>\n",
       "<style scoped>\n",
       "    .dataframe tbody tr th:only-of-type {\n",
       "        vertical-align: middle;\n",
       "    }\n",
       "\n",
       "    .dataframe tbody tr th {\n",
       "        vertical-align: top;\n",
       "    }\n",
       "\n",
       "    .dataframe thead th {\n",
       "        text-align: right;\n",
       "    }\n",
       "</style>\n",
       "<table border=\"1\" class=\"dataframe\">\n",
       "  <thead>\n",
       "    <tr style=\"text-align: right;\">\n",
       "      <th></th>\n",
       "      <th>file_name</th>\n",
       "      <th>left_eye_center_x</th>\n",
       "      <th>left_eye_center_y</th>\n",
       "      <th>right_eye_center_x</th>\n",
       "      <th>right_eye_center_y</th>\n",
       "      <th>left_eye_inner_corner_x</th>\n",
       "      <th>left_eye_inner_corner_y</th>\n",
       "      <th>left_eye_outer_corner_x</th>\n",
       "      <th>left_eye_outer_corner_y</th>\n",
       "      <th>right_eye_inner_corner_x</th>\n",
       "      <th>...</th>\n",
       "      <th>nose_tip_x</th>\n",
       "      <th>nose_tip_y</th>\n",
       "      <th>mouth_left_corner_x</th>\n",
       "      <th>mouth_left_corner_y</th>\n",
       "      <th>mouth_right_corner_x</th>\n",
       "      <th>mouth_right_corner_y</th>\n",
       "      <th>mouth_center_top_lip_x</th>\n",
       "      <th>mouth_center_top_lip_y</th>\n",
       "      <th>mouth_center_bottom_lip_x</th>\n",
       "      <th>mouth_center_bottom_lip_y</th>\n",
       "    </tr>\n",
       "  </thead>\n",
       "  <tbody>\n",
       "    <tr>\n",
       "      <th>0</th>\n",
       "      <td>kaggleFace[0]96x96.jpg</td>\n",
       "      <td>66.033564</td>\n",
       "      <td>39.002274</td>\n",
       "      <td>30.227008</td>\n",
       "      <td>36.421678</td>\n",
       "      <td>59.582075</td>\n",
       "      <td>39.647423</td>\n",
       "      <td>73.130346</td>\n",
       "      <td>39.969997</td>\n",
       "      <td>36.356571</td>\n",
       "      <td>...</td>\n",
       "      <td>44.420571</td>\n",
       "      <td>57.066803</td>\n",
       "      <td>61.195308</td>\n",
       "      <td>79.970165</td>\n",
       "      <td>28.614496</td>\n",
       "      <td>77.388992</td>\n",
       "      <td>43.312601</td>\n",
       "      <td>72.935459</td>\n",
       "      <td>43.130707</td>\n",
       "      <td>84.485774</td>\n",
       "    </tr>\n",
       "    <tr>\n",
       "      <th>1</th>\n",
       "      <td>dylanOriginal384x384.png</td>\n",
       "      <td>222.000000</td>\n",
       "      <td>179.000000</td>\n",
       "      <td>151.000000</td>\n",
       "      <td>176.000000</td>\n",
       "      <td>207.000000</td>\n",
       "      <td>181.000000</td>\n",
       "      <td>237.000000</td>\n",
       "      <td>181.000000</td>\n",
       "      <td>165.000000</td>\n",
       "      <td>...</td>\n",
       "      <td>188.000000</td>\n",
       "      <td>225.000000</td>\n",
       "      <td>225.000000</td>\n",
       "      <td>248.000000</td>\n",
       "      <td>147.000000</td>\n",
       "      <td>247.000000</td>\n",
       "      <td>187.000000</td>\n",
       "      <td>244.000000</td>\n",
       "      <td>187.000000</td>\n",
       "      <td>281.000000</td>\n",
       "    </tr>\n",
       "    <tr>\n",
       "      <th>2</th>\n",
       "      <td>dylanOriginal192x192</td>\n",
       "      <td>111.000000</td>\n",
       "      <td>89.500000</td>\n",
       "      <td>75.500000</td>\n",
       "      <td>88.000000</td>\n",
       "      <td>103.500000</td>\n",
       "      <td>90.500000</td>\n",
       "      <td>118.500000</td>\n",
       "      <td>90.500000</td>\n",
       "      <td>82.500000</td>\n",
       "      <td>...</td>\n",
       "      <td>94.000000</td>\n",
       "      <td>112.500000</td>\n",
       "      <td>112.500000</td>\n",
       "      <td>124.000000</td>\n",
       "      <td>73.500000</td>\n",
       "      <td>123.500000</td>\n",
       "      <td>93.500000</td>\n",
       "      <td>122.000000</td>\n",
       "      <td>93.500000</td>\n",
       "      <td>140.500000</td>\n",
       "    </tr>\n",
       "    <tr>\n",
       "      <th>3</th>\n",
       "      <td>dylanOriginal96x96</td>\n",
       "      <td>55.500000</td>\n",
       "      <td>44.750000</td>\n",
       "      <td>37.750000</td>\n",
       "      <td>44.000000</td>\n",
       "      <td>51.750000</td>\n",
       "      <td>45.250000</td>\n",
       "      <td>59.250000</td>\n",
       "      <td>45.250000</td>\n",
       "      <td>41.250000</td>\n",
       "      <td>...</td>\n",
       "      <td>47.000000</td>\n",
       "      <td>56.250000</td>\n",
       "      <td>56.250000</td>\n",
       "      <td>62.000000</td>\n",
       "      <td>36.750000</td>\n",
       "      <td>61.750000</td>\n",
       "      <td>46.750000</td>\n",
       "      <td>61.000000</td>\n",
       "      <td>46.750000</td>\n",
       "      <td>70.250000</td>\n",
       "    </tr>\n",
       "    <tr>\n",
       "      <th>4</th>\n",
       "      <td>redSunGlasses457x172.png</td>\n",
       "      <td>322.440300</td>\n",
       "      <td>71.089200</td>\n",
       "      <td>139.639500</td>\n",
       "      <td>71.089200</td>\n",
       "      <td>NaN</td>\n",
       "      <td>NaN</td>\n",
       "      <td>NaN</td>\n",
       "      <td>NaN</td>\n",
       "      <td>NaN</td>\n",
       "      <td>...</td>\n",
       "      <td>NaN</td>\n",
       "      <td>NaN</td>\n",
       "      <td>NaN</td>\n",
       "      <td>NaN</td>\n",
       "      <td>NaN</td>\n",
       "      <td>NaN</td>\n",
       "      <td>NaN</td>\n",
       "      <td>NaN</td>\n",
       "      <td>NaN</td>\n",
       "      <td>NaN</td>\n",
       "    </tr>\n",
       "  </tbody>\n",
       "</table>\n",
       "<p>5 rows × 31 columns</p>\n",
       "</div>"
      ],
      "text/plain": [
       "                  file_name  left_eye_center_x  left_eye_center_y  \\\n",
       "0    kaggleFace[0]96x96.jpg          66.033564          39.002274   \n",
       "1  dylanOriginal384x384.png         222.000000         179.000000   \n",
       "2      dylanOriginal192x192         111.000000          89.500000   \n",
       "3        dylanOriginal96x96          55.500000          44.750000   \n",
       "4  redSunGlasses457x172.png         322.440300          71.089200   \n",
       "\n",
       "   right_eye_center_x  right_eye_center_y  left_eye_inner_corner_x  \\\n",
       "0           30.227008           36.421678                59.582075   \n",
       "1          151.000000          176.000000               207.000000   \n",
       "2           75.500000           88.000000               103.500000   \n",
       "3           37.750000           44.000000                51.750000   \n",
       "4          139.639500           71.089200                      NaN   \n",
       "\n",
       "   left_eye_inner_corner_y  left_eye_outer_corner_x  left_eye_outer_corner_y  \\\n",
       "0                39.647423                73.130346                39.969997   \n",
       "1               181.000000               237.000000               181.000000   \n",
       "2                90.500000               118.500000                90.500000   \n",
       "3                45.250000                59.250000                45.250000   \n",
       "4                      NaN                      NaN                      NaN   \n",
       "\n",
       "   right_eye_inner_corner_x            ...              nose_tip_x  \\\n",
       "0                 36.356571            ...               44.420571   \n",
       "1                165.000000            ...              188.000000   \n",
       "2                 82.500000            ...               94.000000   \n",
       "3                 41.250000            ...               47.000000   \n",
       "4                       NaN            ...                     NaN   \n",
       "\n",
       "   nose_tip_y  mouth_left_corner_x  mouth_left_corner_y  mouth_right_corner_x  \\\n",
       "0   57.066803            61.195308            79.970165             28.614496   \n",
       "1  225.000000           225.000000           248.000000            147.000000   \n",
       "2  112.500000           112.500000           124.000000             73.500000   \n",
       "3   56.250000            56.250000            62.000000             36.750000   \n",
       "4         NaN                  NaN                  NaN                   NaN   \n",
       "\n",
       "   mouth_right_corner_y  mouth_center_top_lip_x  mouth_center_top_lip_y  \\\n",
       "0             77.388992               43.312601               72.935459   \n",
       "1            247.000000              187.000000              244.000000   \n",
       "2            123.500000               93.500000              122.000000   \n",
       "3             61.750000               46.750000               61.000000   \n",
       "4                   NaN                     NaN                     NaN   \n",
       "\n",
       "   mouth_center_bottom_lip_x  mouth_center_bottom_lip_y  \n",
       "0                  43.130707                  84.485774  \n",
       "1                 187.000000                 281.000000  \n",
       "2                  93.500000                 140.500000  \n",
       "3                  46.750000                  70.250000  \n",
       "4                        NaN                        NaN  \n",
       "\n",
       "[5 rows x 31 columns]"
      ]
     },
     "execution_count": 7,
     "metadata": {},
     "output_type": "execute_result"
    }
   ],
   "source": [
    "# For now I am assuming a single CSV file with a facwe image filename in the first column and coordinates\n",
    "# Other rows in the file are expected to have an accessory image file name in the first column and coordinates in other columns.\n",
    "# We may want to have separate files for target face and accessories.\n",
    "\n",
    "imageFile = 'faceFileNoImage.csv'\n",
    "imagesDF = pd.read_csv(imageFile)\n",
    "imagesDF"
   ]
  },
  {
   "cell_type": "code",
   "execution_count": 8,
   "metadata": {},
   "outputs": [
    {
     "name": "stdout",
     "output_type": "stream",
     "text": [
      "PNG (384, 384) RGB\n",
      "PNG (457, 172) RGBA\n"
     ]
    }
   ],
   "source": [
    "# Assuming a funciton call will pass in a targetFace filename and an accessory filename\n",
    "\n",
    "imageDirectoryPath = ''\n",
    "\n",
    "targetFaceFileName = 'dylanOriginal384x384.png'\n",
    "targetFaceFilePath = imageDirectoryPath + targetFaceFileName\n",
    "targetFace = Image.open(targetFaceFilePath)\n",
    "print(targetFace.format, targetFace.size, targetFace.mode)\n",
    "targetFace.show()\n",
    "\n",
    "accessoryFileName = 'redSunGlasses457x172.png'\n",
    "accessoryFilePath = imageDirectoryPath + accessoryFileName\n",
    "accessory = Image.open(accessoryFilePath)\n",
    "print(accessory.format, accessory.size, accessory.mode)\n",
    "accessory.show()\n"
   ]
  },
  {
   "cell_type": "code",
   "execution_count": 9,
   "metadata": {},
   "outputs": [],
   "source": [
    "# Picking the row out of the datatable with the face info\n",
    "targetRowDF = imagesDF.loc[imagesDF['file_name'] == targetFaceFileName]"
   ]
  },
  {
   "cell_type": "code",
   "execution_count": 10,
   "metadata": {},
   "outputs": [],
   "source": [
    "# Picking the row out of the datatable with the accessory info\n",
    "accessoryRowDF = imagesDF.loc[imagesDF['file_name'] == accessoryFileName]"
   ]
  },
  {
   "cell_type": "code",
   "execution_count": 11,
   "metadata": {},
   "outputs": [
    {
     "name": "stdout",
     "output_type": "stream",
     "text": [
      "face eye width:  71.0\n",
      "accessory eye width:  182.80079999999998\n",
      "Scale factor:  2.574659154929577\n"
     ]
    }
   ],
   "source": [
    "# Comparing the target face eye width (center to center) \n",
    "# and the accessory eye width (center to center) to determine the scaling factor to make the accessory fit the face\n",
    "targetEyeWidth = targetRowDF.iloc[0][\"left_eye_center_x\"]-targetRowDF.iloc[0][\"right_eye_center_x\"]\n",
    "print(\"face eye width: \",targetEyeWidth)\n",
    "accessoryEyeWidth = accessoryRowDF.iloc[0][\"left_eye_center_x\"]-accessoryRowDF.iloc[0][\"right_eye_center_x\"]\n",
    "print(\"accessory eye width: \", accessoryEyeWidth)\n",
    "scaleFactorAcsy2Face = accessoryEyeWidth/targetEyeWidth\n",
    "print(\"Scale factor: \" , scaleFactorAcsy2Face)"
   ]
  },
  {
   "cell_type": "code",
   "execution_count": 12,
   "metadata": {},
   "outputs": [
    {
     "name": "stdout",
     "output_type": "stream",
     "text": [
      "new accessory dimensions:  [177  66]\n"
     ]
    }
   ],
   "source": [
    "# Calculating the new accessory size and keypoint coordinates\n",
    "newAcsySize = accessory.size/scaleFactorAcsy2Face\n",
    "newAcsySize = newAcsySize.astype(int)\n",
    "newAcsyLeftEyeCenterX = int(accessoryRowDF.iloc[0][\"left_eye_center_x\"]/scaleFactorAcsy2Face)\n",
    "newAcsyRightEyeCenterX = int(accessoryRowDF.iloc[0][\"right_eye_center_x\"]/scaleFactorAcsy2Face)\n",
    "newAcsyLeftEyeCenterY = int(accessoryRowDF.iloc[0][\"left_eye_center_y\"]/scaleFactorAcsy2Face)\n",
    "newAcsyRightEyeCenterY = int(accessoryRowDF.iloc[0][\"right_eye_center_y\"]/scaleFactorAcsy2Face)\n",
    "print(\"new accessory dimensions: \",newAcsySize)"
   ]
  },
  {
   "cell_type": "code",
   "execution_count": 13,
   "metadata": {},
   "outputs": [
    {
     "name": "stdout",
     "output_type": "stream",
     "text": [
      "None (177, 66) RGBA\n"
     ]
    }
   ],
   "source": [
    "#Scaling the accessory image file with pre and post processing functions to maintain transparency\n",
    "premultiply(accessory)\n",
    "accessory = accessory.resize(newAcsySize)\n",
    "unmultiply(accessory)\n",
    "print(accessory.format, accessory.size, accessory.mode)\n",
    "accessory.show()"
   ]
  },
  {
   "cell_type": "code",
   "execution_count": 14,
   "metadata": {},
   "outputs": [
    {
     "name": "stdout",
     "output_type": "stream",
     "text": [
      "(97, 149, 274, 215)\n"
     ]
    }
   ],
   "source": [
    "# pasting the resized, transparent png image onto the test image\n",
    "x1 = int(targetRowDF.iloc[0][\"right_eye_center_x\"])-newAcsyRightEyeCenterX\n",
    "x2 = x1+newAcsySize[0]\n",
    "y1 = int(targetRowDF.iloc[0][\"right_eye_center_y\"])-newAcsyRightEyeCenterY\n",
    "y2 = y1+newAcsySize[1]\n",
    "\n",
    "box=(x1,y1,x2,y2)\n",
    "print(box)\n",
    "targetFace.paste(accessory, box, accessory)\n",
    "targetFace.show()"
   ]
  },
  {
   "cell_type": "code",
   "execution_count": null,
   "metadata": {},
   "outputs": [],
   "source": []
  }
 ],
 "metadata": {
  "kernelspec": {
   "display_name": "PythonData",
   "language": "python",
   "name": "pythondata"
  },
  "language_info": {
   "codemirror_mode": {
    "name": "ipython",
    "version": 3
   },
   "file_extension": ".py",
   "mimetype": "text/x-python",
   "name": "python",
   "nbconvert_exporter": "python",
   "pygments_lexer": "ipython3",
   "version": "3.6.6"
  }
 },
 "nbformat": 4,
 "nbformat_minor": 2
}

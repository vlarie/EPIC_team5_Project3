{
 "cells": [
  {
   "cell_type": "markdown",
   "metadata": {},
   "source": [
    "## Benchmark with Numba"
   ]
  },
  {
   "cell_type": "code",
   "execution_count": 13,
   "metadata": {},
   "outputs": [],
   "source": [
    "import time\n",
    "import numpy as np\n",
    "from numba import jit, njit, vectorize"
   ]
  },
  {
   "cell_type": "code",
   "execution_count": 29,
   "metadata": {},
   "outputs": [],
   "source": [
    "# Addition function for baseline benchmarks\n",
    "def add(a, b):\n",
    "    x = a * b\n",
    "    return x"
   ]
  },
  {
   "cell_type": "code",
   "execution_count": 30,
   "metadata": {},
   "outputs": [],
   "source": [
    "# Adding Numba jit decorator\n",
    "@jit\n",
    "def addjit(a, b):\n",
    "    x = a * b\n",
    "    return x"
   ]
  },
  {
   "cell_type": "code",
   "execution_count": 31,
   "metadata": {},
   "outputs": [],
   "source": [
    "# Adding Numba njit decorator (no Python mode)\n",
    "@njit\n",
    "def addnjit(a, b):\n",
    "    x = a * b\n",
    "    return x"
   ]
  },
  {
   "cell_type": "code",
   "execution_count": 42,
   "metadata": {},
   "outputs": [],
   "source": [
    "# Adding Numba vectorize decorator\n",
    "@vectorize\n",
    "def addvect(a, b):\n",
    "    return a * b"
   ]
  },
  {
   "cell_type": "code",
   "execution_count": 24,
   "metadata": {},
   "outputs": [],
   "source": [
    "# Generate random arrays of equal length\n",
    "length = 12000000\n",
    "a = np.random.random_sample(length,)\n",
    "b = np.random.random_sample(length,)"
   ]
  },
  {
   "cell_type": "code",
   "execution_count": 33,
   "metadata": {},
   "outputs": [
    {
     "name": "stdout",
     "output_type": "stream",
     "text": [
      "75.3 ms ± 3.26 ms per loop (mean ± std. dev. of 7 runs, 10 loops each)\n",
      "Total time: 6.264132022857666\n"
     ]
    }
   ],
   "source": [
    "start = time.time()\n",
    "%timeit add(a,b)\n",
    "end = time.time()\n",
    "\n",
    "print(f'Total time: {end - start}')"
   ]
  },
  {
   "cell_type": "code",
   "execution_count": null,
   "metadata": {},
   "outputs": [],
   "source": [
    "%timeit add(a, b)"
   ]
  },
  {
   "cell_type": "code",
   "execution_count": 38,
   "metadata": {},
   "outputs": [
    {
     "name": "stdout",
     "output_type": "stream",
     "text": [
      "131 ms ± 5.53 ms per loop (mean ± std. dev. of 7 runs, 1 loop each)\n",
      "Total time with Numba: 1.1468372344970703\n"
     ]
    }
   ],
   "source": [
    "start = time.time()\n",
    "%timeit addjit(a,b)\n",
    "end = time.time()\n",
    "\n",
    "print(f'Total time with Numba: {end - start}')"
   ]
  },
  {
   "cell_type": "code",
   "execution_count": 41,
   "metadata": {},
   "outputs": [
    {
     "name": "stdout",
     "output_type": "stream",
     "text": [
      "130 ms ± 4.66 ms per loop (mean ± std. dev. of 7 runs, 1 loop each)\n",
      "Total time with Numba (no python mode): 1.1344218254089355\n"
     ]
    }
   ],
   "source": [
    "start = time.time()\n",
    "%timeit addnjit(a,b)\n",
    "end = time.time()\n",
    "\n",
    "print(f'Total time with Numba (no python mode): {end - start}')"
   ]
  },
  {
   "cell_type": "code",
   "execution_count": 44,
   "metadata": {},
   "outputs": [
    {
     "name": "stdout",
     "output_type": "stream",
     "text": [
      "131 ms ± 1.56 ms per loop (mean ± std. dev. of 7 runs, 10 loops each)\n",
      "Total time with Numba (vectorize): 10.68433952331543\n"
     ]
    }
   ],
   "source": [
    "start = time.time()\n",
    "%timeit addvect(a,b)\n",
    "end = time.time()\n",
    "\n",
    "print(f'Total time with Numba (vectorize): {end - start}')"
   ]
  },
  {
   "cell_type": "code",
   "execution_count": null,
   "metadata": {},
   "outputs": [],
   "source": []
  }
 ],
 "metadata": {
  "kernelspec": {
   "display_name": "PythonData",
   "language": "python",
   "name": "pythondata"
  },
  "language_info": {
   "codemirror_mode": {
    "name": "ipython",
    "version": 3
   },
   "file_extension": ".py",
   "mimetype": "text/x-python",
   "name": "python",
   "nbconvert_exporter": "python",
   "pygments_lexer": "ipython3",
   "version": "3.6.6"
  }
 },
 "nbformat": 4,
 "nbformat_minor": 2
}
